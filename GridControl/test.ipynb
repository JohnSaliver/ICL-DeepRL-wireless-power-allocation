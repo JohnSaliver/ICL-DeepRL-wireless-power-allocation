{
 "cells": [
  {
   "cell_type": "code",
   "execution_count": 13,
   "metadata": {},
   "outputs": [],
   "source": [
    "import pyglet\n",
    "from pyglet.window import mouse\n",
    "from pyglet.window import key\n",
    "from Device import Device\n",
    "import numpy as np\n",
    "from Swarm import Swarm"
   ]
  },
  {
   "cell_type": "code",
   "execution_count": 14,
   "metadata": {},
   "outputs": [
    {
     "output_type": "execute_result",
     "data": {
      "text/plain": "Win32Screen(x=0, y=0, width=1920, height=1080)"
     },
     "metadata": {},
     "execution_count": 14
    }
   ],
   "source": [
    "pyglet.canvas.get_display().get_default_screen()"
   ]
  },
  {
   "cell_type": "code",
   "execution_count": 15,
   "metadata": {},
   "outputs": [],
   "source": [
    "def draw_circle(x, y, color, radius):\n",
    "    num_sides = 50\n",
    "    verts = [x, y]\n",
    "    colors = list(color)\n",
    "    for i in range(num_sides + 1):\n",
    "        verts.append(x + radius * np.cos(i * np.pi * 2 / num_sides))\n",
    "        verts.append(y + radius * np.sin(i * np.pi * 2 / num_sides))\n",
    "        colors.extend(color)\n",
    "    pyglet.graphics.draw(len(verts) // 2, pyglet.gl.GL_TRIANGLE_FAN,\n",
    "                        ('v2f', verts), ('c3f', colors))"
   ]
  },
  {
   "cell_type": "code",
   "execution_count": 16,
   "metadata": {},
   "outputs": [],
   "source": [
    "def draw_grid(batch, cell_nb, wS):\n",
    "    left = 0\n",
    "    right = 0\n",
    "    ver_list = []\n",
    "    color_list = []\n",
    "    num_vert = 0\n",
    "    for i in range(cell_nb):\n",
    "        # horizontal\n",
    "        ver_list.extend((0, left,\n",
    "                         wS, right))\n",
    "        # vertical\n",
    "        ver_list.extend((left, 0,\n",
    "                         right, wS))\n",
    "        color_list.extend([0.3, 0.3, 0.3] * 4)  # black\n",
    "\n",
    "        left += wS/cell_nb\n",
    "        right += wS/cell_nb\n",
    "        num_vert +=4 \n",
    "        print(f\"left {left}, right {right}, wS {wS}\")\n",
    "\n",
    "    batch.add(num_vert, pyglet.gl.GL_LINES, None,\n",
    "              ('v2f/static', ver_list), ('c3f/static', color_list))"
   ]
  },
  {
   "cell_type": "code",
   "execution_count": 17,
   "metadata": {
    "tags": [
     "outputPrepend",
     "outputPrepend",
     "outputPrepend",
     "outputPrepend",
     "outputPrepend",
     "outputPrepend",
     "outputPrepend",
     "outputPrepend",
     "outputPrepend",
     "outputPrepend",
     "outputPrepend",
     "outputPrepend",
     "outputPrepend",
     "outputPrepend",
     "outputPrepend",
     "outputPrepend",
     "outputPrepend",
     "outputPrepend",
     "outputPrepend",
     "outputPrepend",
     "outputPrepend",
     "outputPrepend",
     "outputPrepend",
     "outputPrepend",
     "outputPrepend",
     "outputPrepend",
     "outputPrepend",
     "outputPrepend",
     "outputPrepend",
     "outputPrepend",
     "outputPrepend",
     "outputPrepend",
     "outputPrepend",
     "outputPrepend",
     "outputPrepend",
     "outputPrepend",
     "outputPrepend",
     "outputPrepend",
     "outputPrepend",
     "outputPrepend",
     "outputPrepend",
     "outputPrepend",
     "outputPrepend",
     "outputPrepend",
     "outputPrepend"
    ]
   },
   "outputs": [
    {
     "output_type": "stream",
     "name": "stdout",
     "text": "cx, cy : (0, 1) ; x, y : (-0.39350613377301347, 0.019961343596793277)\ncx, cy : (1, 1) ; x, y : (0.5384111262544515, 0.21838524220973538)\ncx, cy : (0, 0) ; x, y : (-0.3053812036360772, -0.11148297384127909)\ncx, cy : (1, 0) ; x, y : (0.9940589798645488, -0.47035928547326816)\ncx, cy : (0, 0) ; x, y : (-0.45003737461418775, -0.07900998815776103)\ncx, cy : (1, 0) ; x, y : (0.23210145183664546, -0.8804679610678174)\ncx, cy : (1, 0) ; x, y : (0.5950614637355706, -0.46241050079353097)\ncx, cy : (1, 1) ; x, y : (0.2406491461395487, 0.07995712384356832)\ncx, cy : (0, 1) ; x, y : (-0.4684119969919928, 0.5090584788759661)\ncx, cy : (0, 0) ; x, y : (-0.295408084541902, -0.13409910852974732)\n[[3. 3.]\n [2. 2.]]\nleft 180.0, right 180.0, wS 360\nleft 360.0, right 360.0, wS 360\n pix : (109.16889592085758, 176.4069581525772)\n pix : (276.9140027258013, 140.69065640224764)\n pix : (125.0313833455061, 200.06693529143024)\n pix : (358.9306163756188, 264.6646713851883)\n pix : (98.9932725694462, 194.22179786839698)\n pix : (221.7782613305962, 338.4842329922071)\n pix : (287.1110634724027, 263.23389014283555)\n pix : (223.31684630511876, 165.6077177081577)\n pix : (95.6858405414413, 88.3694738023261)\n pix : (126.82654478245765, 204.13783953535452)\n"
    }
   ],
   "source": [
    "screen =  pyglet.canvas.get_display().get_default_screen()\n",
    "wS = int(min(screen.width, screen.height) * 1 / 3)\n",
    "\n",
    "device_nb = 10\n",
    "window = pyglet.window.Window(wS, wS)\n",
    "\n",
    "init_c = []\n",
    "for i in range(device_nb):\n",
    "    init_c.append([(np.random.randn(1, 2)/2)[0], (0,0)])\n",
    "swarm = Swarm(2)\n",
    "swarm.dList_init(init_c)\n",
    "print(swarm.discretize())\n",
    "@window.event\n",
    "def update(dt):\n",
    "    for device in swarm.dList:\n",
    "        v = 0.1/np.linalg.norm(device.position)**2\n",
    "        device.position = device.update(dt, v=v)\n",
    "    \n",
    "\n",
    "def render():\n",
    "    \n",
    "    # Set Cursor\n",
    "    cursor = window.get_system_mouse_cursor(window.CURSOR_CROSSHAIR)\n",
    "    window.set_mouse_cursor(cursor)\n",
    "\n",
    "    # Outlines\n",
    "    lower_grid_coord = wS * 0.075\n",
    "    board_size = wS * 0.85\n",
    "    upper_grid_coord = board_size + lower_grid_coord\n",
    "\n",
    "    @window.event\n",
    "    def on_draw():\n",
    "        pyglet.gl.glClearColor(0.7, 0.5, 0.3, 1)\n",
    "        window.clear()\n",
    "        \n",
    "        pyglet.gl.glLineWidth(3)\n",
    "        batch = pyglet.graphics.Batch()\n",
    "        draw_grid(batch, swarm.cell_nb, wS)\n",
    "\n",
    "\n",
    "        batch.draw()\n",
    "        for device in swarm.dList:\n",
    "            x= device.position[0]*wS/2 + wS/2\n",
    "            y= wS/2 - device.position[1]*wS/2\n",
    "            print(f\" pix : {(x, y)}\")\n",
    "            draw_circle(x, y, [0.05882352963, 0.180392161, 0.2470588237], 5)\n",
    "        \n",
    "    #pyglet.clock.schedule_interval(update, 1/120.0)\n",
    "    pyglet.app.run()\n",
    "\n",
    "render()"
   ]
  },
  {
   "cell_type": "code",
   "execution_count": 18,
   "metadata": {},
   "outputs": [
    {
     "output_type": "execute_result",
     "data": {
      "text/plain": "6"
     },
     "metadata": {},
     "execution_count": 18
    }
   ],
   "source": [
    "x = 1\n",
    "cell_nb = 4\n",
    "cx = int(np.floor((x+1)*(cell_nb-1)))\n",
    "cx"
   ]
  },
  {
   "cell_type": "code",
   "execution_count": null,
   "metadata": {},
   "outputs": [],
   "source": []
  }
 ],
 "metadata": {
  "language_info": {
   "codemirror_mode": {
    "name": "ipython",
    "version": 3
   },
   "file_extension": ".py",
   "mimetype": "text/x-python",
   "name": "python",
   "nbconvert_exporter": "python",
   "pygments_lexer": "ipython3",
   "version": "3.7.6-final"
  },
  "orig_nbformat": 2,
  "kernelspec": {
   "name": "python37664bitbasecondade1c09a68b1449d89643e3825835df12",
   "display_name": "Python 3.7.6 64-bit ('base': conda)"
  }
 },
 "nbformat": 4,
 "nbformat_minor": 2
}