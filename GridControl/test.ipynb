{
 "cells": [
  {
   "cell_type": "code",
   "execution_count": 1,
   "metadata": {},
   "outputs": [],
   "source": [
    "import pyglet\n",
    "from pyglet.window import mouse\n",
    "from pyglet.window import key\n",
    "from Device import Device\n",
    "import numpy as np\n",
    "from Swarm import Swarm"
   ]
  },
  {
   "cell_type": "code",
   "execution_count": 2,
   "metadata": {},
   "outputs": [
    {
     "output_type": "execute_result",
     "data": {
      "text/plain": "Win32Screen(x=0, y=0, width=1920, height=1080)"
     },
     "metadata": {},
     "execution_count": 2
    }
   ],
   "source": [
    "pyglet.canvas.get_display().get_default_screen()"
   ]
  },
  {
   "cell_type": "code",
   "execution_count": 3,
   "metadata": {},
   "outputs": [
    {
     "output_type": "execute_result",
     "data": {
      "text/plain": "array([[-2.09094066,  0.48104913],\n       [ 0.1013554 , -0.17821484],\n       [ 0.19323651,  0.4283942 ],\n       [-0.166919  ,  1.12107783],\n       [ 1.18552553, -0.8968341 ],\n       [-1.31090197,  0.93860144],\n       [-0.81347816, -0.57447721],\n       [ 1.15587488, -0.15710884],\n       [ 2.43227771,  0.38563976],\n       [ 0.38184101,  0.24416556]])"
     },
     "metadata": {},
     "execution_count": 3
    }
   ],
   "source": [
    "np.random.randn(10, 2)"
   ]
  },
  {
   "cell_type": "code",
   "execution_count": 4,
   "metadata": {
    "tags": []
   },
   "outputs": [
    {
     "output_type": "stream",
     "name": "stdout",
     "text": "[[2. 0. 0. 0. 0.]\n [0. 3. 0. 0. 1.]\n [0. 0. 4. 0. 1.]\n [1. 1. 0. 0. 1.]\n [0. 1. 0. 0. 0.]]\n"
    }
   ],
   "source": [
    "S = Swarm()\n",
    "n_devices = 15\n",
    "pos_L = np.random.randn(n_devices, 2)/2\n",
    "init_L = [(pos, (0,0)) for pos in pos_L]\n",
    "S.dList_init(init_L)\n",
    "S.discretize()\n",
    "S.render()"
   ]
  },
  {
   "cell_type": "code",
   "execution_count": null,
   "metadata": {},
   "outputs": [],
   "source": []
  }
 ],
 "metadata": {
  "language_info": {
   "codemirror_mode": {
    "name": "ipython",
    "version": 3
   },
   "file_extension": ".py",
   "mimetype": "text/x-python",
   "name": "python",
   "nbconvert_exporter": "python",
   "pygments_lexer": "ipython3",
   "version": "3.7.4-final"
  },
  "orig_nbformat": 2,
  "kernelspec": {
   "name": "python3",
   "display_name": "Python 3"
  }
 },
 "nbformat": 4,
 "nbformat_minor": 2
}