{
 "cells": [
  {
   "cell_type": "code",
   "execution_count": 1,
   "metadata": {},
   "outputs": [],
   "source": [
    "import pyglet\n",
    "from pyglet.window import mouse\n",
    "from pyglet.window import key\n",
    "from Device import Device\n",
    "import numpy as np"
   ]
  },
  {
   "cell_type": "code",
   "execution_count": 2,
   "metadata": {},
   "outputs": [
    {
     "output_type": "execute_result",
     "data": {
      "text/plain": "Win32Screen(x=0, y=0, width=1920, height=1080)"
     },
     "metadata": {},
     "execution_count": 2
    }
   ],
   "source": [
    "pyglet.canvas.get_display().get_default_screen()"
   ]
  },
  {
   "cell_type": "code",
   "execution_count": 3,
   "metadata": {},
   "outputs": [],
   "source": [
    "def draw_circle(x, y, color, radius):\n",
    "    num_sides = 50\n",
    "    verts = [x, y]\n",
    "    colors = list(color)\n",
    "    for i in range(num_sides + 1):\n",
    "        verts.append(x + radius * np.cos(i * np.pi * 2 / num_sides))\n",
    "        verts.append(y + radius * np.sin(i * np.pi * 2 / num_sides))\n",
    "        colors.extend(color)\n",
    "    pyglet.graphics.draw(len(verts) // 2, pyglet.gl.GL_TRIANGLE_FAN,\n",
    "                        ('v2f', verts), ('c3f', colors))"
   ]
  },
  {
   "cell_type": "code",
   "execution_count": 4,
   "metadata": {
    "tags": [
     "outputPrepend",
     "outputPrepend",
     "outputPrepend",
     "outputPrepend",
     "outputPrepend",
     "outputPrepend",
     "outputPrepend",
     "outputPrepend",
     "outputPrepend",
     "outputPrepend",
     "outputPrepend",
     "outputPrepend",
     "outputPrepend",
     "outputPrepend",
     "outputPrepend",
     "outputPrepend",
     "outputPrepend",
     "outputPrepend",
     "outputPrepend",
     "outputPrepend",
     "outputPrepend",
     "outputPrepend",
     "outputPrepend",
     "outputPrepend",
     "outputPrepend",
     "outputPrepend",
     "outputPrepend",
     "outputPrepend",
     "outputPrepend",
     "outputPrepend",
     "outputPrepend",
     "outputPrepend",
     "outputPrepend",
     "outputPrepend",
     "outputPrepend",
     "outputPrepend",
     "outputPrepend",
     "outputPrepend",
     "outputPrepend",
     "outputPrepend",
     "outputPrepend",
     "outputPrepend",
     "outputPrepend",
     "outputPrepend",
     "outputPrepend",
     "outputPrepend",
     "outputPrepend",
     "outputPrepend",
     "outputPrepend",
     "outputPrepend",
     "outputPrepend",
     "outputPrepend",
     "outputPrepend",
     "outputPrepend",
     "outputPrepend",
     "outputPrepend",
     "outputPrepend",
     "outputPrepend",
     "outputPrepend",
     "outputPrepend",
     "outputPrepend",
     "outputPrepend",
     "outputPrepend",
     "outputPrepend",
     "outputPrepend",
     "outputPrepend",
     "outputPrepend"
    ]
   },
   "outputs": [],
   "source": [
    "device = Device((0.5, 0.5))\n",
    "screen =  pyglet.canvas.get_display().get_default_screen()\n",
    "wS = int(min(screen.width, screen.height) * 1 / 3)\n",
    "\n",
    "\n",
    "window = pyglet.window.Window(wS, wS)\n",
    "\n",
    "@window.event\n",
    "def update(dt):\n",
    "    device.update(dt)\n",
    "\n",
    "def render():\n",
    "    \n",
    "    # Set Cursor\n",
    "    cursor = window.get_system_mouse_cursor(window.CURSOR_CROSSHAIR)\n",
    "    window.set_mouse_cursor(cursor)\n",
    "\n",
    "    # Outlines\n",
    "    lower_grid_coord = wS * 0.075\n",
    "    board_size = wS * 0.85\n",
    "    upper_grid_coord = board_size + lower_grid_coord\n",
    "\n",
    "    @window.event\n",
    "    def on_draw():\n",
    "        pyglet.gl.glClearColor(0.7, 0.5, 0.3, 1)\n",
    "        window.clear()\n",
    "\n",
    "        pyglet.gl.glLineWidth(3)\n",
    "        \n",
    "        x, y= device.position*wS/2 + np.array((wS/2, wS/2))\n",
    "        draw_circle(x, y, [0.05882352963, 0.180392161, 0.2470588237], 15)\n",
    "\n",
    "    pyglet.clock.schedule_interval(update, 1/120.0)\n",
    "    pyglet.app.run()\n",
    "\n",
    "render()"
   ]
  }
 ],
 "metadata": {
  "language_info": {
   "codemirror_mode": {
    "name": "ipython",
    "version": 3
   },
   "file_extension": ".py",
   "mimetype": "text/x-python",
   "name": "python",
   "nbconvert_exporter": "python",
   "pygments_lexer": "ipython3",
   "version": "3.7.4-final"
  },
  "orig_nbformat": 2,
  "kernelspec": {
   "name": "python3",
   "display_name": "Python 3"
  }
 },
 "nbformat": 4,
 "nbformat_minor": 2
}