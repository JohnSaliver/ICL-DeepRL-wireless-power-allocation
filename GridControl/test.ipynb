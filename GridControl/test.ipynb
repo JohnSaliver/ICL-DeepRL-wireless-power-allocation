{
 "cells": [
  {
   "cell_type": "code",
   "execution_count": 1,
   "metadata": {},
   "outputs": [],
   "source": [
    "import pyglet\n",
    "from pyglet.window import mouse\n",
    "from pyglet.window import key\n",
    "import numpy as np\n",
    "from Environment import Environment\n",
    "from Agent import Agent\n",
    "from time import time"
   ]
  },
  {
   "cell_type": "code",
   "execution_count": 2,
   "metadata": {},
   "outputs": [
    {
     "output_type": "execute_result",
     "data": {
      "text/plain": "Win32Screen(x=0, y=0, width=1920, height=1080)"
     },
     "metadata": {},
     "execution_count": 2
    }
   ],
   "source": [
    "pyglet.canvas.get_display().get_default_screen()"
   ]
  },
  {
   "cell_type": "code",
   "execution_count": 3,
   "metadata": {
    "tags": []
   },
   "outputs": [
    {
     "output_type": "stream",
     "name": "stdout",
     "text": "stuck here 1 1, 1\nstuck here 1 2, 2\nstuck here 2 1, 1\nstuck here 2 1, 1\nstuck here 2 1, 1\nChannel_loss after things [[1.85877037e-03 5.48788329e-05 1.05847797e-04]\n [5.48788329e-05 1.89075379e-03 2.12965330e-04]\n [1.05847797e-04 2.12965330e-04 2.01006867e-03]]\nSINR : [[2.95294758e+11 0.00000000e+00 0.00000000e+00]\n [0.00000000e+00 8.87822350e+00 0.00000000e+00]\n [0.00000000e+00 0.00000000e+00 6.30484914e+00]] \nDRL : [[0.00185877 0.         0.        ]\n [0.         0.00189075 0.        ]\n [0.         0.         0.00201007]]\nCRL : [[0.00000000e+00 1.05847797e-04 5.48788329e-05]\n [0.00000000e+00 2.12965330e-04 5.48788329e-05]\n [0.00000000e+00 0.00000000e+00 3.18813127e-04]]\nH : [[0. 0. 1.]\n [0. 0. 1.]\n [0. 1. 0.]]\nPower : [[0.30453584 0.         0.        ]\n [0.         0.37862822 0.        ]\n [0.         0.         0.64438736]]\nOG CRL : [[0.00000000e+00 5.48788329e-05 1.05847797e-04]\n [5.48788329e-05 0.00000000e+00 2.12965330e-04]\n [1.05847797e-04 2.12965330e-04 0.00000000e+00]]\n"
    },
    {
     "output_type": "error",
     "ename": "AttributeError",
     "evalue": "'int' object has no attribute 'append'",
     "traceback": [
      "\u001b[1;31m---------------------------------------------------------------------------\u001b[0m",
      "\u001b[1;31mAttributeError\u001b[0m                            Traceback (most recent call last)",
      "\u001b[1;32m<ipython-input-3-18bf7210aaca>\u001b[0m in \u001b[0;36m<module>\u001b[1;34m\u001b[0m\n\u001b[0;32m     14\u001b[0m     \u001b[1;32mfor\u001b[0m \u001b[0mk\u001b[0m \u001b[1;32min\u001b[0m \u001b[0mrange\u001b[0m\u001b[1;33m(\u001b[0m\u001b[0mnum_actions\u001b[0m\u001b[1;33m)\u001b[0m\u001b[1;33m:\u001b[0m\u001b[1;33m\u001b[0m\u001b[1;33m\u001b[0m\u001b[0m\n\u001b[0;32m     15\u001b[0m         \u001b[0mactions\u001b[0m \u001b[1;33m=\u001b[0m \u001b[0magent\u001b[0m\u001b[1;33m.\u001b[0m\u001b[0mchoose_action\u001b[0m\u001b[1;33m(\u001b[0m\u001b[0mf_map\u001b[0m\u001b[1;33m)\u001b[0m\u001b[1;33m\u001b[0m\u001b[1;33m\u001b[0m\u001b[0m\n\u001b[1;32m---> 16\u001b[1;33m         \u001b[0mepisode\u001b[0m \u001b[1;33m=\u001b[0m \u001b[0menv\u001b[0m\u001b[1;33m.\u001b[0m\u001b[0mstep\u001b[0m\u001b[1;33m(\u001b[0m\u001b[0mactions\u001b[0m\u001b[1;33m)\u001b[0m\u001b[1;33m\u001b[0m\u001b[1;33m\u001b[0m\u001b[0m\n\u001b[0m\u001b[0;32m     17\u001b[0m         \u001b[0magent\u001b[0m\u001b[1;33m.\u001b[0m\u001b[0mlearn\u001b[0m\u001b[1;33m(\u001b[0m\u001b[0mepisode\u001b[0m\u001b[1;33m)\u001b[0m\u001b[1;33m\u001b[0m\u001b[1;33m\u001b[0m\u001b[0m\n\u001b[0;32m     18\u001b[0m         \u001b[0mscore\u001b[0m \u001b[1;33m+=\u001b[0m \u001b[0mepisode\u001b[0m\u001b[1;33m[\u001b[0m\u001b[1;34m\"r\"\u001b[0m\u001b[1;33m]\u001b[0m \u001b[1;32mif\u001b[0m \u001b[0mepisode\u001b[0m\u001b[1;33m[\u001b[0m\u001b[1;34m\"r\"\u001b[0m\u001b[1;33m]\u001b[0m \u001b[1;32mis\u001b[0m \u001b[0mfloat\u001b[0m \u001b[1;32melse\u001b[0m \u001b[1;36m0\u001b[0m\u001b[1;33m\u001b[0m\u001b[1;33m\u001b[0m\u001b[0m\n",
      "\u001b[1;32mc:\\Proj\\ICL-DeepRL-wireless-power-allocation\\GridControl\\Environment.py\u001b[0m in \u001b[0;36mstep\u001b[1;34m(self, action)\u001b[0m\n\u001b[0;32m     88\u001b[0m         \u001b[0mself\u001b[0m\u001b[1;33m.\u001b[0m\u001b[0mdiscretize\u001b[0m\u001b[1;33m(\u001b[0m\u001b[1;33m)\u001b[0m \u001b[1;31m#rebuild the f_map\u001b[0m\u001b[1;33m\u001b[0m\u001b[1;33m\u001b[0m\u001b[0m\n\u001b[0;32m     89\u001b[0m \u001b[1;33m\u001b[0m\u001b[0m\n\u001b[1;32m---> 90\u001b[1;33m         \u001b[0mepisode\u001b[0m \u001b[1;33m=\u001b[0m \u001b[1;33m{\u001b[0m\u001b[1;34m\"s\"\u001b[0m\u001b[1;33m:\u001b[0m \u001b[0mold_state\u001b[0m\u001b[1;33m,\u001b[0m \u001b[1;34m\"r\"\u001b[0m\u001b[1;33m:\u001b[0m\u001b[0mself\u001b[0m\u001b[1;33m.\u001b[0m\u001b[0mobjective\u001b[0m\u001b[1;33m(\u001b[0m\u001b[1;33m)\u001b[0m\u001b[1;33m,\u001b[0m \u001b[1;34m\"d\"\u001b[0m\u001b[1;33m:\u001b[0m\u001b[1;36m0\u001b[0m\u001b[1;33m,\u001b[0m \u001b[1;34m\"s_\"\u001b[0m\u001b[1;33m:\u001b[0m\u001b[0mself\u001b[0m\u001b[1;33m.\u001b[0m\u001b[0mf_map\u001b[0m\u001b[1;33m}\u001b[0m \u001b[1;31m#construct the episode\u001b[0m\u001b[1;33m\u001b[0m\u001b[1;33m\u001b[0m\u001b[0m\n\u001b[0m\u001b[0;32m     91\u001b[0m         \u001b[1;32mreturn\u001b[0m \u001b[0mepisode\u001b[0m\u001b[1;33m\u001b[0m\u001b[1;33m\u001b[0m\u001b[0m\n\u001b[0;32m     92\u001b[0m \u001b[1;33m\u001b[0m\u001b[0m\n",
      "\u001b[1;32mc:\\Proj\\ICL-DeepRL-wireless-power-allocation\\GridControl\\Environment.py\u001b[0m in \u001b[0;36mobjective\u001b[1;34m(self)\u001b[0m\n\u001b[0;32m    164\u001b[0m                 \u001b[0mD\u001b[0m\u001b[1;33m[\u001b[0m\u001b[0mj\u001b[0m\u001b[1;33m+\u001b[0m\u001b[0mi\u001b[0m\u001b[1;33m,\u001b[0m \u001b[0mj\u001b[0m\u001b[1;33m]\u001b[0m \u001b[1;33m=\u001b[0m \u001b[0mD\u001b[0m\u001b[1;33m[\u001b[0m\u001b[0mj\u001b[0m\u001b[1;33m,\u001b[0m \u001b[0mj\u001b[0m\u001b[1;33m+\u001b[0m\u001b[0mi\u001b[0m\u001b[1;33m]\u001b[0m\u001b[1;33m\u001b[0m\u001b[1;33m\u001b[0m\u001b[0m\n\u001b[0;32m    165\u001b[0m \u001b[1;33m\u001b[0m\u001b[0m\n\u001b[1;32m--> 166\u001b[1;33m         \u001b[0mSINR\u001b[0m \u001b[1;33m=\u001b[0m \u001b[0mself\u001b[0m\u001b[1;33m.\u001b[0m\u001b[0mcompute_SINR\u001b[0m\u001b[1;33m(\u001b[0m\u001b[0mD\u001b[0m\u001b[1;33m)\u001b[0m\u001b[1;33m\u001b[0m\u001b[1;33m\u001b[0m\u001b[0m\n\u001b[0m\u001b[0;32m    167\u001b[0m         \u001b[1;32mreturn\u001b[0m \u001b[0mnp\u001b[0m\u001b[1;33m.\u001b[0m\u001b[0msum\u001b[0m\u001b[1;33m(\u001b[0m\u001b[0mself\u001b[0m\u001b[1;33m.\u001b[0m\u001b[0mcompute_Rates\u001b[0m\u001b[1;33m(\u001b[0m\u001b[0mSINR\u001b[0m\u001b[1;33m)\u001b[0m\u001b[1;33m.\u001b[0m\u001b[0mflatten\u001b[0m\u001b[1;33m(\u001b[0m\u001b[1;33m)\u001b[0m\u001b[1;33m)\u001b[0m\u001b[1;33m\u001b[0m\u001b[1;33m\u001b[0m\u001b[0m\n\u001b[0;32m    168\u001b[0m         \"\"\"\n",
      "\u001b[1;32mc:\\Proj\\ICL-DeepRL-wireless-power-allocation\\GridControl\\Environment.py\u001b[0m in \u001b[0;36mcompute_SINR\u001b[1;34m(self, D, shadowing, fastfading)\u001b[0m\n\u001b[0;32m    148\u001b[0m         \u001b[0mprint\u001b[0m\u001b[1;33m(\u001b[0m\u001b[1;34mf\"SINR : {SINR} \\nDRL : {DRL}\\nCRL : {CRL}\\nH : {H}\\nPower : {P}\\nOG CRL : {Channel_loss*(1-np.eye(self.N()))}\"\u001b[0m\u001b[1;33m)\u001b[0m\u001b[1;33m\u001b[0m\u001b[1;33m\u001b[0m\u001b[0m\n\u001b[0;32m    149\u001b[0m         \u001b[0ma\u001b[0m \u001b[1;33m=\u001b[0m \u001b[1;36m1\u001b[0m\u001b[1;33m\u001b[0m\u001b[1;33m\u001b[0m\u001b[0m\n\u001b[1;32m--> 150\u001b[1;33m         \u001b[0ma\u001b[0m\u001b[1;33m.\u001b[0m\u001b[0mappend\u001b[0m\u001b[1;33m(\u001b[0m\u001b[1;36m1\u001b[0m\u001b[1;33m)\u001b[0m\u001b[1;33m\u001b[0m\u001b[1;33m\u001b[0m\u001b[0m\n\u001b[0m\u001b[0;32m    151\u001b[0m         \u001b[1;32mreturn\u001b[0m \u001b[0mSINR\u001b[0m\u001b[1;33m\u001b[0m\u001b[1;33m\u001b[0m\u001b[0m\n\u001b[0;32m    152\u001b[0m \u001b[1;33m\u001b[0m\u001b[0m\n",
      "\u001b[1;31mAttributeError\u001b[0m: 'int' object has no attribute 'append'"
     ]
    }
   ],
   "source": [
    "env = Environment()\n",
    "env.make(3)\n",
    "\n",
    "agent = Agent(env.cell_nb)\n",
    "\n",
    "score_Hist = []\n",
    "num_episodes = 100\n",
    "num_actions = 100\n",
    "for i in range(num_episodes):\n",
    "    t0 = time()\n",
    "    score = 0\n",
    "    f_map = env.reset()\n",
    "    episode_Hist = []\n",
    "    for k in range(num_actions):\n",
    "        actions = agent.choose_action(f_map)\n",
    "        episode = env.step(actions)\n",
    "        agent.learn(episode)\n",
    "        score += episode[\"r\"] if episode[\"r\"] is float else 0\n",
    "        episode_Hist.append(episode[\"r\"])\n",
    "    score_Hist.append(score)\n",
    "\n",
    "    print(f\"episode {i} with score {score}, which took {np.round(time() - t0, 3)}s\")\n",
    "    print(f\"rewards {episode_Hist}\")\n"
   ]
  },
  {
   "cell_type": "code",
   "execution_count": 4,
   "metadata": {
    "tags": []
   },
   "outputs": [
    {
     "output_type": "stream",
     "name": "stdout",
     "text": "{'black': [0, 0, 0, 255], 'silver': [192, 192, 192, 255], 'gray': [128, 128, 128, 255], 'white': [255, 255, 255, 255], 'maroon': [128, 0, 0, 255], 'red': [255, 0, 0, 255], 'purple': [128, 0, 128, 255], 'fucsia': [0, 128, 0, 255], 'green': [0, 255, 0, 255], 'lime': [255, 255, 0, 255], 'olive': [128, 128, 0, 255], 'yellow': [255, 0, 0, 255], 'navy': [0, 0, 128, 255], 'blue': [0, 0, 255, 255], 'teal': [0, 128, 128, 255], 'aqua': [0, 255, 255, 255]}\n"
    }
   ],
   "source": [
    "import pyglet.text.formats.html as h\n",
    "print(h._color_names)"
   ]
  },
  {
   "cell_type": "code",
   "execution_count": null,
   "metadata": {},
   "outputs": [],
   "source": []
  }
 ],
 "metadata": {
  "language_info": {
   "codemirror_mode": {
    "name": "ipython",
    "version": 3
   },
   "file_extension": ".py",
   "mimetype": "text/x-python",
   "name": "python",
   "nbconvert_exporter": "python",
   "pygments_lexer": "ipython3",
   "version": "3.7.6-final"
  },
  "orig_nbformat": 2,
  "kernelspec": {
   "name": "python37664bitbasecondade1c09a68b1449d89643e3825835df12",
   "display_name": "Python 3.7.6 64-bit ('base': conda)"
  }
 },
 "nbformat": 4,
 "nbformat_minor": 2
}