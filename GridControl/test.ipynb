{
 "cells": [
  {
   "cell_type": "code",
   "execution_count": 1,
   "metadata": {},
   "outputs": [],
   "source": [
    "import pyglet\n",
    "from pyglet.window import mouse\n",
    "from pyglet.window import key\n",
    "import numpy as np\n",
    "from Environment import Environment\n",
    "from Agent import Agent\n",
    "from time import time"
   ]
  },
  {
   "cell_type": "code",
   "execution_count": 2,
   "metadata": {},
   "outputs": [
    {
     "output_type": "execute_result",
     "data": {
      "text/plain": "Win32Screen(x=0, y=0, width=1920, height=1080)"
     },
     "metadata": {},
     "execution_count": 2
    }
   ],
   "source": [
    "pyglet.canvas.get_display().get_default_screen()"
   ]
  },
  {
   "cell_type": "code",
   "execution_count": 4,
   "metadata": {
    "tags": []
   },
   "outputs": [
    {
     "output_type": "error",
     "ename": "NameError",
     "evalue": "name 'num_actions' is not defined",
     "traceback": [
      "\u001b[1;31m---------------------------------------------------------------------------\u001b[0m",
      "\u001b[1;31mNameError\u001b[0m                                 Traceback (most recent call last)",
      "\u001b[1;32m<ipython-input-4-1a3012b9d3b2>\u001b[0m in \u001b[0;36m<module>\u001b[1;34m\u001b[0m\n\u001b[0;32m     11\u001b[0m     \u001b[0mscore\u001b[0m \u001b[1;33m=\u001b[0m \u001b[1;36m0\u001b[0m\u001b[1;33m\u001b[0m\u001b[1;33m\u001b[0m\u001b[0m\n\u001b[0;32m     12\u001b[0m     \u001b[0mf_map\u001b[0m \u001b[1;33m=\u001b[0m \u001b[0menv\u001b[0m\u001b[1;33m.\u001b[0m\u001b[0mreset\u001b[0m\u001b[1;33m(\u001b[0m\u001b[1;33m)\u001b[0m\u001b[1;33m\u001b[0m\u001b[1;33m\u001b[0m\u001b[0m\n\u001b[1;32m---> 13\u001b[1;33m     \u001b[1;32mfor\u001b[0m \u001b[0mk\u001b[0m \u001b[1;32min\u001b[0m \u001b[0mrange\u001b[0m\u001b[1;33m(\u001b[0m\u001b[0mnum_actions\u001b[0m\u001b[1;33m)\u001b[0m\u001b[1;33m:\u001b[0m\u001b[1;33m\u001b[0m\u001b[1;33m\u001b[0m\u001b[0m\n\u001b[0m\u001b[0;32m     14\u001b[0m         \u001b[0mactions\u001b[0m \u001b[1;33m=\u001b[0m \u001b[0magent\u001b[0m\u001b[1;33m.\u001b[0m\u001b[0mchoose_action\u001b[0m\u001b[1;33m(\u001b[0m\u001b[0mf_map\u001b[0m\u001b[1;33m)\u001b[0m\u001b[1;33m\u001b[0m\u001b[1;33m\u001b[0m\u001b[0m\n\u001b[0;32m     15\u001b[0m         \u001b[0mepisode\u001b[0m \u001b[1;33m=\u001b[0m \u001b[0menv\u001b[0m\u001b[1;33m.\u001b[0m\u001b[0mstep\u001b[0m\u001b[1;33m(\u001b[0m\u001b[0mactions\u001b[0m\u001b[1;33m)\u001b[0m\u001b[1;33m\u001b[0m\u001b[1;33m\u001b[0m\u001b[0m\n",
      "\u001b[1;31mNameError\u001b[0m: name 'num_actions' is not defined"
     ]
    }
   ],
   "source": [
    "env = Environment()\n",
    "env.make(15)\n",
    "\n",
    "agent = Agent(env.cell_nb)\n",
    "\n",
    "score_Hist = []\n",
    "num_episodes = 100\n",
    "num_actions = 100\n",
    "for i in range(num_episodes):\n",
    "    t0 = time()\n",
    "    score = 0\n",
    "    f_map = env.reset()\n",
    "    for k in range(num_actions):\n",
    "        actions = agent.choose_action(f_map)\n",
    "        episode = env.step(actions)\n",
    "        agent.learn(episode)\n",
    "        score += episode[\"r\"]\n",
    "    score_Hist.append(score)\n",
    "\n",
    "    print(f\"episode {i} with score {score}, which took {np.round(time() - t0, 3)}s\")\n"
   ]
  },
  {
   "cell_type": "code",
   "execution_count": 5,
   "metadata": {
    "tags": []
   },
   "outputs": [
    {
     "output_type": "stream",
     "name": "stdout",
     "text": "{'black': [0, 0, 0, 255], 'silver': [192, 192, 192, 255], 'gray': [128, 128, 128, 255], 'white': [255, 255, 255, 255], 'maroon': [128, 0, 0, 255], 'red': [255, 0, 0, 255], 'purple': [128, 0, 128, 255], 'fucsia': [0, 128, 0, 255], 'green': [0, 255, 0, 255], 'lime': [255, 255, 0, 255], 'olive': [128, 128, 0, 255], 'yellow': [255, 0, 0, 255], 'navy': [0, 0, 128, 255], 'blue': [0, 0, 255, 255], 'teal': [0, 128, 128, 255], 'aqua': [0, 255, 255, 255]}\n"
    }
   ],
   "source": [
    "import pyglet.text.formats.html as h\n",
    "print(h._color_names)"
   ]
  },
  {
   "cell_type": "code",
   "execution_count": null,
   "metadata": {},
   "outputs": [],
   "source": []
  }
 ],
 "metadata": {
  "language_info": {
   "codemirror_mode": {
    "name": "ipython",
    "version": 3
   },
   "file_extension": ".py",
   "mimetype": "text/x-python",
   "name": "python",
   "nbconvert_exporter": "python",
   "pygments_lexer": "ipython3",
   "version": "3.7.6-final"
  },
  "orig_nbformat": 2,
  "kernelspec": {
   "name": "python37664bitbasecondade1c09a68b1449d89643e3825835df12",
   "display_name": "Python 3.7.6 64-bit ('base': conda)"
  }
 },
 "nbformat": 4,
 "nbformat_minor": 2
}